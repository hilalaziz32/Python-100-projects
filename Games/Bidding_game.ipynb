{
 "cells": [
  {
   "cell_type": "code",
   "execution_count": 51,
   "id": "f173d9fb-527c-4229-95bb-3241d51e5dfd",
   "metadata": {},
   "outputs": [
    {
     "name": "stdin",
     "output_type": "stream",
     "text": [
      "What's your name? :  Henry\n",
      "What is your bid? : $  500\n",
      "Do you want  to continue further 'Yes' or 'No' :  yes\n",
      "What's your name? :  Di caprio\n",
      "What is your bid? : $  450\n",
      "Do you want  to continue further 'Yes' or 'No' :  Lewandouski\n"
     ]
    },
    {
     "name": "stdout",
     "output_type": "stream",
     "text": [
      "##########   Auction is over ##########\n",
      "Highest Bidder = Henry with a bid of $500\n"
     ]
    }
   ],
   "source": [
    "def find_winner(bidding_dicitonary):\n",
    "    highest_bid = 0\n",
    "    name = \"\"\n",
    "    for bidder,amount in bidding_dicitonary.items():\n",
    "        if  amount > highest_bid :\n",
    "            highest_bid = amount\n",
    "            name = bidder\n",
    "    return name,highest_bid\n",
    "            \n",
    "winner = \"\"\n",
    "cash = 0\n",
    "bids = {}\n",
    "continue_bidding = True\n",
    "while continue_bidding:\n",
    "    name = input(\"What's your name? : \")\n",
    "    price = int(input(\"What is your bid? : $ \"))\n",
    "    bids[name] = price\n",
    "    choice = input(\"Do you want  to continue further 'Yes' or 'No' : \").title()\n",
    "    if choice != 'Yes':\n",
    "        continue_bidding = False\n",
    "        winner,cash = find_winner(bids)\n",
    "        \n",
    "print(\"##########   Auction is over ##########\")\n",
    "print(f\"Highest Bidder = {winner} with a bid of ${cash}\")"
   ]
  },
  {
   "cell_type": "code",
   "execution_count": null,
   "id": "9b04c546-a829-4fa1-9a1d-1a71786e3bb0",
   "metadata": {},
   "outputs": [],
   "source": []
  }
 ],
 "metadata": {
  "kernelspec": {
   "display_name": "Python 3 (ipykernel)",
   "language": "python",
   "name": "python3"
  },
  "language_info": {
   "codemirror_mode": {
    "name": "ipython",
    "version": 3
   },
   "file_extension": ".py",
   "mimetype": "text/x-python",
   "name": "python",
   "nbconvert_exporter": "python",
   "pygments_lexer": "ipython3",
   "version": "3.12.7"
  }
 },
 "nbformat": 4,
 "nbformat_minor": 5
}
