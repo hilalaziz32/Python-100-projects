{
 "cells": [
  {
   "cell_type": "code",
   "execution_count": null,
   "id": "3d989444-7ef1-4c4a-aa53-77806d44b57f",
   "metadata": {},
   "outputs": [],
   "source": [
    "\n",
    "alphabet = ['A', 'B', 'C', 'D', 'E', 'F', 'G', 'H', 'I', 'J', 'K', 'L', 'M', \n",
    "            'N', 'O', 'P', 'Q', 'R', 'S', 'T', 'U', 'V', 'W', 'X', 'Y', 'Z',\n",
    "            'a', 'b', 'c', 'd', 'e', 'f', 'g', 'h', 'i', 'j', 'k', 'l', 'm', \n",
    "            'n', 'o', 'p', 'q', 'r', 's', 't', 'u', 'v', 'w', 'x', 'y', 'z']\n",
    "\n",
    "def encrypt(original_text, shift_amount):\n",
    "    cipher_text = \"\"\n",
    "    for letter in original_text:\n",
    "        if letter in alphabet:\n",
    "            shifted_position = (alphabet.index(letter) + shift_amount) % len(alphabet)  # Handle wrap-around\n",
    "            cipher_text += alphabet[shifted_position]\n",
    "        else:\n",
    "            cipher_text += letter  # Keep the non-alphabet characters as is\n",
    "    return cipher_text\n",
    "\n",
    "def decrypt(cipher_text, shift_amount):\n",
    "    original_text = \"\"\n",
    "    for letter in cipher_text:\n",
    "        if letter in alphabet:\n",
    "            shifted_position = (alphabet.index(letter) - shift_amount) % len(alphabet)  # Handle wrap-around\n",
    "            original_text += alphabet[shifted_position]\n",
    "        else:\n",
    "            original_text += letter  # Keep the non-alphabet characters as is\n",
    "    return original_text\n",
    "\n",
    "result_encrypted = encrypt(\"Sample\", 2)\n",
    "print(\"Encrypted:\", result_encrypted)\n",
    "\n",
    "result_decrypted = decrypt(result_encrypted, 2)\n",
    "print(\"Decrypted:\", result_decrypted)\n"
   ]
  },
  {
   "cell_type": "code",
   "execution_count": null,
   "id": "3cf21dc8-6086-493a-a9c0-185c33198253",
   "metadata": {},
   "outputs": [],
   "source": []
  }
 ],
 "metadata": {
  "kernelspec": {
   "display_name": "Python 3 (ipykernel)",
   "language": "python",
   "name": "python3"
  },
  "language_info": {
   "codemirror_mode": {
    "name": "ipython",
    "version": 3
   },
   "file_extension": ".py",
   "mimetype": "text/x-python",
   "name": "python",
   "nbconvert_exporter": "python",
   "pygments_lexer": "ipython3",
   "version": "3.12.7"
  }
 },
 "nbformat": 4,
 "nbformat_minor": 5
}
