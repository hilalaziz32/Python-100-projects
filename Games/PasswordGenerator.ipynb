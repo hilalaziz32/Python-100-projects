{
 "cells": [
  {
   "cell_type": "code",
   "execution_count": 1,
   "id": "f8f03076-0896-4858-8f29-b0987c4ec365",
   "metadata": {},
   "outputs": [
    {
     "name": "stdout",
     "output_type": "stream",
     "text": [
      "Apple\n",
      "Peach\n",
      "Pear\n",
      "Bannana\n"
     ]
    }
   ],
   "source": [
    "fruits = [\"Apple\",\"Peach\",\"Pear\",\"Bannana\"]\n",
    "for fruit in fruits :\n",
    "    print(fruit)"
   ]
  },
  {
   "cell_type": "code",
   "execution_count": 2,
   "id": "1e473cf8-819a-43d4-83bf-5aad23ccd612",
   "metadata": {},
   "outputs": [
    {
     "name": "stdout",
     "output_type": "stream",
     "text": [
      "Apple\n",
      "Peach\n",
      "Pear\n",
      "Bannana\n"
     ]
    }
   ],
   "source": [
    "fruits = [\"Apple\",\"Peach\",\"Pear\",\"Bannana\"]\n",
    "for x in fruits:\n",
    "    print(x)"
   ]
  },
  {
   "cell_type": "code",
   "execution_count": 2,
   "id": "a5bcf4bc-3681-41fe-8c03-9fd4b0e039c4",
   "metadata": {},
   "outputs": [
    {
     "name": "stdout",
     "output_type": "stream",
     "text": [
      "Apple pie\n",
      "Peach pie\n",
      "Pear pie\n",
      "Bannana pie\n"
     ]
    }
   ],
   "source": [
    "fruits = [\"Apple\",\"Peach\",\"Pear\",\"Bannana\"]\n",
    "for fruit in fruits :\n",
    "    print(fruit + ' pie')"
   ]
  },
  {
   "cell_type": "code",
   "execution_count": 5,
   "id": "7e3afd16-2cde-4087-9edf-433900e1e977",
   "metadata": {},
   "outputs": [
    {
     "name": "stdout",
     "output_type": "stream",
     "text": [
      "Apple  Juice\n",
      "Peach  Juice\n",
      "Pear  Juice\n",
      "Bannana  Juice\n"
     ]
    }
   ],
   "source": [
    "for fruit in fruits:\n",
    "    print(fruit + \"  Juice\")"
   ]
  },
  {
   "cell_type": "code",
   "execution_count": 3,
   "id": "d0341dd6-f325-4ccb-adfe-2a4be5dc50da",
   "metadata": {},
   "outputs": [
    {
     "name": "stdout",
     "output_type": "stream",
     "text": [
      "Apple\n",
      "Apple pie\n",
      "['Apple', 'Peach', 'Pear']\n",
      "Peach\n",
      "Peach pie\n",
      "['Apple', 'Peach', 'Pear']\n",
      "Pear\n",
      "Pear pie\n",
      "['Apple', 'Peach', 'Pear']\n"
     ]
    }
   ],
   "source": [
    "fruits = [\"Apple\",\"Peach\",\"Pear\"]\n",
    "for fruit in fruits :\n",
    "    print(fruit)\n",
    "    print(fruit + ' pie')\n",
    "    print(fruits)"
   ]
  },
  {
   "cell_type": "code",
   "execution_count": 48,
   "id": "f21b8ed8-5b10-47ce-bcfc-36d8ab4cb620",
   "metadata": {},
   "outputs": [
    {
     "name": "stdout",
     "output_type": "stream",
     "text": [
      "Apple\n",
      "Apple pie\n",
      "Peach\n",
      "Peach pie\n",
      "Pear\n",
      "Pear pie\n",
      "['Apple', 'Peach', 'Pear']\n"
     ]
    }
   ],
   "source": [
    "fruits = [\"Apple\",\"Peach\",\"Pear\"]\n",
    "for fruit in fruits :\n",
    "    print(fruit)\n",
    "    print(fruit + ' pie')\n",
    "print(fruits)"
   ]
  },
  {
   "cell_type": "code",
   "execution_count": 7,
   "id": "756c6b54-a094-4dd2-842b-e5b6d0ca2e8b",
   "metadata": {},
   "outputs": [
    {
     "name": "stdout",
     "output_type": "stream",
     "text": [
      "861\n"
     ]
    }
   ],
   "source": [
    "students_score = [85, 37, 28, 34, 75, 39, 41, 20, 59, 80, 95, 100, 79, 89]\n",
    "\n",
    "total = 0\n",
    "for score in students_score:\n",
    "    total = total + score\n",
    "\n",
    "print(total)\n",
    "\n",
    "\n",
    "\n",
    "\n"
   ]
  },
  {
   "cell_type": "code",
   "execution_count": 5,
   "id": "bf96f70f-c8f4-41ae-805e-06bdf93fadec",
   "metadata": {},
   "outputs": [
    {
     "name": "stdout",
     "output_type": "stream",
     "text": [
      "926\n"
     ]
    }
   ],
   "source": [
    "students_score = [150, 37, 28, 34, 75, 39, 41, 20, 59, 80, 95, 100, 79, 89]\n",
    "total = 0\n",
    "for score in students_score:\n",
    "    total= total + score\n",
    "print(total)"
   ]
  },
  {
   "cell_type": "code",
   "execution_count": 50,
   "id": "64b18a0b-60c3-4c05-974e-10a08ede42d0",
   "metadata": {},
   "outputs": [
    {
     "name": "stdout",
     "output_type": "stream",
     "text": [
      "871\n"
     ]
    }
   ],
   "source": [
    "students_score = [95, 37, 28, 34, 75, 39, 41, 20, 59, 80, 95, 100, 79, 89]\n",
    "total = 0\n",
    "for score in students_score :\n",
    "    total += score\n",
    "print(total)"
   ]
  },
  {
   "cell_type": "code",
   "execution_count": 6,
   "id": "2e5c7776-184b-48ac-81db-87cc12beb278",
   "metadata": {},
   "outputs": [
    {
     "name": "stdout",
     "output_type": "stream",
     "text": [
      "150\n"
     ]
    }
   ],
   "source": [
    "maximum_marks = max(students_score)\n",
    "print(maximum_marks)"
   ]
  },
  {
   "cell_type": "code",
   "execution_count": 52,
   "id": "5a6dd31c-40c4-4929-a9d1-69a73ce65006",
   "metadata": {},
   "outputs": [
    {
     "name": "stdout",
     "output_type": "stream",
     "text": [
      "100\n"
     ]
    }
   ],
   "source": [
    "students_score = [95, 37, 28, 34, 75, 39, 41, 20, 59, 80, 95, 100, 79, 89]\n",
    "maximum = 0\n",
    "for score in students_score:\n",
    "    if score > maximum:\n",
    "        maximum = score\n",
    "print(maximum)"
   ]
  },
  {
   "cell_type": "code",
   "execution_count": 53,
   "id": "1e74cd9b-50e6-4dc0-beaa-285cf3bfdfb8",
   "metadata": {},
   "outputs": [
    {
     "name": "stdout",
     "output_type": "stream",
     "text": [
      "range(1, 10)\n"
     ]
    }
   ],
   "source": [
    "#Range\n",
    "print(range(1,10))"
   ]
  },
  {
   "cell_type": "code",
   "execution_count": 8,
   "id": "fc295479-2b35-438b-8e02-184f1aa6af32",
   "metadata": {},
   "outputs": [
    {
     "name": "stdout",
     "output_type": "stream",
     "text": [
      "1\n",
      "2\n",
      "3\n",
      "4\n",
      "5\n",
      "6\n",
      "7\n",
      "8\n",
      "9\n",
      "10\n",
      "11\n",
      "12\n",
      "13\n",
      "14\n",
      "15\n",
      "16\n",
      "17\n",
      "18\n",
      "19\n",
      "20\n",
      "21\n",
      "22\n",
      "23\n",
      "24\n",
      "25\n",
      "26\n",
      "27\n",
      "28\n",
      "29\n",
      "30\n",
      "31\n",
      "32\n",
      "33\n",
      "34\n",
      "35\n",
      "36\n",
      "37\n",
      "38\n",
      "39\n",
      "40\n",
      "41\n",
      "42\n",
      "43\n",
      "44\n",
      "45\n",
      "46\n",
      "47\n",
      "48\n",
      "49\n",
      "50\n",
      "51\n",
      "52\n",
      "53\n",
      "54\n",
      "55\n",
      "56\n",
      "57\n",
      "58\n",
      "59\n",
      "60\n",
      "61\n",
      "62\n",
      "63\n",
      "64\n",
      "65\n",
      "66\n",
      "67\n",
      "68\n",
      "69\n",
      "70\n",
      "71\n",
      "72\n",
      "73\n",
      "74\n",
      "75\n",
      "76\n",
      "77\n",
      "78\n",
      "79\n",
      "80\n",
      "81\n",
      "82\n",
      "83\n",
      "84\n",
      "85\n",
      "86\n",
      "87\n",
      "88\n",
      "89\n",
      "90\n",
      "91\n",
      "92\n",
      "93\n",
      "94\n",
      "95\n",
      "96\n",
      "97\n",
      "98\n",
      "99\n",
      "100\n"
     ]
    }
   ],
   "source": [
    "for number in range(1,101):\n",
    "    print(number)"
   ]
  },
  {
   "cell_type": "code",
   "execution_count": 9,
   "id": "db2780e4-2dfc-43a7-8cd9-742d40a8b44b",
   "metadata": {},
   "outputs": [
    {
     "name": "stdout",
     "output_type": "stream",
     "text": [
      "1\n",
      "3\n",
      "5\n",
      "7\n",
      "9\n",
      "11\n",
      "13\n",
      "15\n",
      "17\n",
      "19\n",
      "21\n",
      "23\n",
      "25\n",
      "27\n",
      "29\n",
      "31\n",
      "33\n",
      "35\n",
      "37\n",
      "39\n",
      "41\n",
      "43\n",
      "45\n",
      "47\n",
      "49\n",
      "51\n",
      "53\n",
      "55\n",
      "57\n",
      "59\n",
      "61\n",
      "63\n",
      "65\n",
      "67\n",
      "69\n",
      "71\n",
      "73\n",
      "75\n",
      "77\n",
      "79\n",
      "81\n",
      "83\n",
      "85\n",
      "87\n",
      "89\n",
      "91\n",
      "93\n",
      "95\n",
      "97\n",
      "99\n"
     ]
    }
   ],
   "source": [
    "for number in range(1,101,2):\n",
    "    print(number)"
   ]
  },
  {
   "cell_type": "code",
   "execution_count": 10,
   "id": "4453fea9-e389-4263-a77f-2dd0b7a265fd",
   "metadata": {},
   "outputs": [
    {
     "name": "stdout",
     "output_type": "stream",
     "text": [
      "1\n",
      "5\n",
      "9\n",
      "13\n",
      "17\n",
      "21\n",
      "25\n",
      "29\n",
      "33\n",
      "37\n",
      "41\n",
      "45\n",
      "49\n",
      "53\n",
      "57\n",
      "61\n",
      "65\n",
      "69\n",
      "73\n",
      "77\n",
      "81\n",
      "85\n",
      "89\n",
      "93\n",
      "97\n"
     ]
    }
   ],
   "source": [
    "for number in range(1,101,4):\n",
    "    print(number)"
   ]
  },
  {
   "cell_type": "code",
   "execution_count": 58,
   "id": "f6f5aae1-e1d4-4981-8c68-175fa9eb12a1",
   "metadata": {},
   "outputs": [
    {
     "name": "stdout",
     "output_type": "stream",
     "text": [
      "55\n"
     ]
    }
   ],
   "source": [
    "total = 0\n",
    "for number in range(1,11):\n",
    "    total = total + number\n",
    "print(total)"
   ]
  },
  {
   "cell_type": "code",
   "execution_count": 11,
   "id": "320586b7-c0bf-48ab-8678-c0ad0e079954",
   "metadata": {
    "scrolled": true
   },
   "outputs": [
    {
     "name": "stdout",
     "output_type": "stream",
     "text": [
      "1\n",
      "2\n",
      "Fizz\n",
      "4\n",
      "Buzz\n",
      "Fizz\n",
      "7\n",
      "8\n",
      "Fizz\n",
      "Buzz\n",
      "11\n",
      "Fizz\n",
      "13\n",
      "14\n",
      "FizzBuzz\n",
      "16\n",
      "17\n",
      "Fizz\n",
      "19\n",
      "Buzz\n",
      "Fizz\n",
      "22\n",
      "23\n",
      "Fizz\n",
      "Buzz\n",
      "26\n",
      "Fizz\n",
      "28\n",
      "29\n",
      "FizzBuzz\n",
      "31\n",
      "32\n",
      "Fizz\n",
      "34\n",
      "Buzz\n",
      "Fizz\n",
      "37\n",
      "38\n",
      "Fizz\n",
      "Buzz\n",
      "41\n",
      "Fizz\n",
      "43\n",
      "44\n",
      "FizzBuzz\n",
      "46\n",
      "47\n",
      "Fizz\n",
      "49\n",
      "Buzz\n",
      "Fizz\n",
      "52\n",
      "53\n",
      "Fizz\n",
      "Buzz\n",
      "56\n",
      "Fizz\n",
      "58\n",
      "59\n",
      "FizzBuzz\n",
      "61\n",
      "62\n",
      "Fizz\n",
      "64\n",
      "Buzz\n",
      "Fizz\n",
      "67\n",
      "68\n",
      "Fizz\n",
      "Buzz\n",
      "71\n",
      "Fizz\n",
      "73\n",
      "74\n",
      "FizzBuzz\n",
      "76\n",
      "77\n",
      "Fizz\n",
      "79\n",
      "Buzz\n",
      "Fizz\n",
      "82\n",
      "83\n",
      "Fizz\n",
      "Buzz\n",
      "86\n",
      "Fizz\n",
      "88\n",
      "89\n",
      "FizzBuzz\n",
      "91\n",
      "92\n",
      "Fizz\n",
      "94\n",
      "Buzz\n",
      "Fizz\n",
      "97\n",
      "98\n",
      "Fizz\n",
      "Buzz\n"
     ]
    }
   ],
   "source": [
    "for num in range(1,101):\n",
    "    if num%3==0 and num%5==0:\n",
    "        print(\"FizzBuzz\")\n",
    "    elif num%3==0:\n",
    "        print(\"Fizz\")\n",
    "    elif num%5==0:\n",
    "        print(\"Buzz\")\n",
    "    else:\n",
    "        print(num)"
   ]
  },
  {
   "cell_type": "code",
   "execution_count": 11,
   "id": "5711acad-dfd9-488f-b154-b8a9289ed152",
   "metadata": {},
   "outputs": [
    {
     "name": "stdout",
     "output_type": "stream",
     "text": [
      "1\n",
      "2\n",
      "Fizz\n",
      "4\n",
      "BUzz\n",
      "Fizz\n",
      "7\n",
      "8\n",
      "Fizz\n",
      "BUzz\n",
      "11\n",
      "Fizz\n",
      "13\n",
      "14\n",
      "FizzBuzz\n",
      "16\n",
      "17\n",
      "Fizz\n",
      "19\n",
      "BUzz\n",
      "Fizz\n",
      "22\n",
      "23\n",
      "Fizz\n",
      "BUzz\n",
      "26\n",
      "Fizz\n",
      "28\n",
      "29\n",
      "FizzBuzz\n",
      "31\n",
      "32\n",
      "Fizz\n",
      "34\n",
      "BUzz\n",
      "Fizz\n",
      "37\n",
      "38\n",
      "Fizz\n",
      "BUzz\n",
      "41\n",
      "Fizz\n",
      "43\n",
      "44\n",
      "FizzBuzz\n",
      "46\n",
      "47\n",
      "Fizz\n",
      "49\n",
      "BUzz\n",
      "Fizz\n",
      "52\n",
      "53\n",
      "Fizz\n",
      "BUzz\n",
      "56\n",
      "Fizz\n",
      "58\n",
      "59\n",
      "FizzBuzz\n",
      "61\n",
      "62\n",
      "Fizz\n",
      "64\n",
      "BUzz\n",
      "Fizz\n",
      "67\n",
      "68\n",
      "Fizz\n",
      "BUzz\n",
      "71\n",
      "Fizz\n",
      "73\n",
      "74\n",
      "FizzBuzz\n",
      "76\n",
      "77\n",
      "Fizz\n",
      "79\n",
      "BUzz\n",
      "Fizz\n",
      "82\n",
      "83\n",
      "Fizz\n",
      "BUzz\n",
      "86\n",
      "Fizz\n",
      "88\n",
      "89\n",
      "FizzBuzz\n",
      "91\n",
      "92\n",
      "Fizz\n",
      "94\n",
      "BUzz\n",
      "Fizz\n",
      "97\n",
      "98\n",
      "Fizz\n",
      "BUzz\n"
     ]
    }
   ],
   "source": [
    "for num in range(1,101):\n",
    "    if num % 3==0 and num%5==0:\n",
    "        print(\"FizzBuzz\")\n",
    "    elif num%3==0:\n",
    "        print(\"Fizz\")\n",
    "    elif num%5==0:\n",
    "        print(\"BUzz\")\n",
    "    else:\n",
    "        print(num)"
   ]
  },
  {
   "cell_type": "code",
   "execution_count": 63,
   "id": "734a77ba-22e7-4dcd-8286-5b5b525054e8",
   "metadata": {},
   "outputs": [
    {
     "name": "stdin",
     "output_type": "stream",
     "text": [
      "How many letters would you like in your password?\n",
      " 5\n",
      "How many number would you like\n",
      " 3\n",
      "How many symbols would you like\n",
      " 2\n"
     ]
    },
    {
     "name": "stdout",
     "output_type": "stream",
     "text": [
      "Ldhgb807^@\n"
     ]
    }
   ],
   "source": [
    "import random\n",
    "alphabets = ['A', 'B', 'C', 'D', 'E', 'F', 'G', 'H', 'I', 'J', 'K', 'L', 'M', \n",
    "             'N', 'O', 'P', 'Q', 'R', 'S', 'T', 'U', 'V', 'W', 'X', 'Y', 'Z', \n",
    "             'a', 'b', 'c', 'd', 'e', 'f', 'g', 'h', 'i', 'j', 'k', 'l', 'm', \n",
    "             'n', 'o', 'p', 'q', 'r', 's', 't', 'u', 'v', 'w', 'x', 'y', 'z']\n",
    "numbers = ['0', '1', '2', '3', '4', '5', '6', '7', '8', '9']\n",
    "special_symbols = ['!', '@', '#', '$', '%', '^', '&', '*']\n",
    "nr_letters = int(input(\"How many letters would you like in your password?\\n\"))\n",
    "nr_numbers = int(input(f\"How many number would you like\\n\"))\n",
    "nr_symbols = int(input(f\"How many symbols would you like\\n\"))\n",
    "\n",
    "password = \"\"\n",
    "for char in range(0,nr_letters):\n",
    "    random_char = random.choice(alphabets)\n",
    "    password += random_char\n",
    "#   password+=random.choice(alphabets)\n",
    "for num in range(0,nr_numbers):\n",
    "    random_num = random.choice(numbers)\n",
    "    password += random_num\n",
    "#   password+=random.choice(numbers)\n",
    "for symbol in range(0,nr_symbols):\n",
    "    random_sym = random.choice(special_symbols)\n",
    "    password += random_sym\n",
    "#   password+=random.choice(special_symbols)\n",
    "print(password)"
   ]
  },
  {
   "cell_type": "code",
   "execution_count": 15,
   "id": "5495bdf1-7a4f-4d29-9a0c-17211afc2af0",
   "metadata": {},
   "outputs": [
    {
     "name": "stdin",
     "output_type": "stream",
     "text": [
      "Enter the number of alphabets 6\n",
      "Enter the number of numbers 3\n",
      "Enter the number of symbols 2\n"
     ]
    },
    {
     "name": "stdout",
     "output_type": "stream",
     "text": [
      "['k', 'g', 'A', 'o', 'b', 'y', '9', '8', '5', '*', '&']\n",
      "['5', '9', 'A', '&', 'y', 'k', 'g', 'b', '*', '8', 'o']\n",
      "Your password generated is: 59A&ykgb*8o\n"
     ]
    }
   ],
   "source": [
    "import random\n",
    "alphabets = ['A', 'B', 'C', 'D', 'E', 'F', 'G', 'H', 'I', 'J', 'K', 'L', 'M', \n",
    "             'N', 'O', 'P', 'Q', 'R', 'S', 'T', 'U', 'V', 'W', 'X', 'Y', 'Z', \n",
    "             'a', 'b', 'c', 'd', 'e', 'f', 'g', 'h', 'i', 'j', 'k', 'l', 'm', \n",
    "             'n', 'o', 'p', 'q', 'r', 's', 't', 'u', 'v', 'w', 'x', 'y', 'z']\n",
    "numbers = ['0', '1', '2', '3', '4', '5', '6', '7', '8', '9']\n",
    "special_symbols = ['!', '@', '#', '$', '%', '^', '&', '*']\n",
    "nr_alphabets = int(input(\"Enter the number of alphabets\"))\n",
    "nr_numbers = int(input(\"Enter the number of numbers\"))\n",
    "nr_symbols = int(input(\"Enter the number of symbols\"))\n",
    "password_list = []\n",
    "for char in range(0,nr_alphabets):\n",
    "    character = random.choice(alphabets)\n",
    "    password_list.append(character)\n",
    "    \n",
    "for num in range(0,nr_numbers):\n",
    "    number = random.choice(numbers)\n",
    "    password_list.append(number)\n",
    "    \n",
    "for sym in range(0,nr_symbols):\n",
    "    symbol = random.choice(special_symbols)\n",
    "    password_list.append(symbol)\n",
    "\n",
    "print(password_list)\n",
    "random.shuffle(password_list)\n",
    "print(password_list)\n",
    "passw = \"\"\n",
    "for key in password_list:\n",
    "    passw = passw + key\n",
    "print(f\"Your password generated is: {passw}\")"
   ]
  },
  {
   "cell_type": "code",
   "execution_count": null,
   "id": "e1bd4d63-9a35-4801-b9c4-983c53104ecf",
   "metadata": {},
   "outputs": [],
   "source": []
  },
  {
   "cell_type": "code",
   "execution_count": 67,
   "id": "7ba8521e-9f3c-4c65-bb27-ba7bfe024181",
   "metadata": {},
   "outputs": [
    {
     "name": "stdin",
     "output_type": "stream",
     "text": [
      "How many letters would you like in your password?\n",
      " 5\n",
      "How many number would you like\n",
      " 4\n",
      "How many symbols would you like\n",
      " 2\n"
     ]
    },
    {
     "name": "stdout",
     "output_type": "stream",
     "text": [
      "['O', 'W', 'a', 'g', 'm', '5', '6', '2', '9', '$', '^']\n",
      "['W', 'O', 'm', '^', '2', '6', 'g', 'a', '$', '9', '5']\n"
     ]
    }
   ],
   "source": [
    "import random\n",
    "alphabets = ['A', 'B', 'C', 'D', 'E', 'F', 'G', 'H', 'I', 'J', 'K', 'L', 'M', \n",
    "             'N', 'O', 'P', 'Q', 'R', 'S', 'T', 'U', 'V', 'W', 'X', 'Y', 'Z', \n",
    "             'a', 'b', 'c', 'd', 'e', 'f', 'g', 'h', 'i', 'j', 'k', 'l', 'm', \n",
    "             'n', 'o', 'p', 'q', 'r', 's', 't', 'u', 'v', 'w', 'x', 'y', 'z']\n",
    "numbers = ['0', '1', '2', '3', '4', '5', '6', '7', '8', '9']\n",
    "special_symbols = ['!', '@', '#', '$', '%', '^', '&', '*']\n",
    "nr_letters = int(input(\"How many letters would you like in your password?\\n\"))\n",
    "nr_numbers = int(input(f\"How many number would you like\\n\"))\n",
    "nr_symbols = int(input(f\"How many symbols would you like\\n\"))\n",
    "\n",
    "password_list = []\n",
    "for char in range(0,nr_letters):\n",
    "    password_list.append(random.choice(alphabets))\n",
    "for num in range(0,nr_numbers):\n",
    "    password_list.append(random.choice(numbers))\n",
    "for symbol in range(0,nr_symbols):\n",
    "    password_list.append(random.choice(special_symbols))\n",
    "print(password_list)\n",
    "random.shuffle(password_list)\n",
    "print(password_list)"
   ]
  },
  {
   "cell_type": "code",
   "execution_count": 17,
   "id": "16e38b31-545a-460b-839f-e4b06afba2db",
   "metadata": {},
   "outputs": [
    {
     "name": "stdin",
     "output_type": "stream",
     "text": [
      "How many alpahbets 5\n",
      "Enter the number of numbers 2\n",
      "Enter the nuymber of symbols 3\n"
     ]
    },
    {
     "name": "stdout",
     "output_type": "stream",
     "text": [
      "GPlhs10@!%\n"
     ]
    }
   ],
   "source": [
    "import random\n",
    "alphabets = ['A', 'B', 'C', 'D', 'E', 'F', 'G', 'H', 'I', 'J', 'K', 'L', 'M', \n",
    "             'N', 'O', 'P', 'Q', 'R', 'S', 'T', 'U', 'V', 'W', 'X', 'Y', 'Z', \n",
    "             'a', 'b', 'c', 'd', 'e', 'f', 'g', 'h', 'i', 'j', 'k', 'l', 'm', \n",
    "             'n', 'o', 'p', 'q', 'r', 's', 't', 'u', 'v', 'w', 'x', 'y', 'z']\n",
    "numbers = ['0', '1', '2', '3', '4', '5', '6', '7', '8', '9']\n",
    "special_symbols = ['!', '@', '#', '$', '%', '^', '&', '*']\n",
    "\n",
    "nr_alphabets = int(input(\"How many alpahbets\"))\n",
    "nr_numbers = int(input(\"Enter the number of numbers\"))\n",
    "nr_symbol = int(input(\"Enter the nuymber of symbols\"))\n",
    "\n",
    "password = \"\"\n",
    "\n",
    "for char in range(0, nr_alphabets):\n",
    "    alphabet = random.choice(alphabets)\n",
    "    password += alphabet\n",
    "\n",
    "\n",
    "for num in range(0, nr_numbers):\n",
    "    number = random.choice(numbers)\n",
    "    password += number\n",
    "\n",
    "for num in range(0, nr_symbol):\n",
    "    symbol = random.choice(special_symbols)\n",
    "    password += symbol\n",
    "\n",
    "print(password)\n",
    "\n",
    "\n",
    "\n",
    "\n",
    "\n",
    "\n",
    "\n"
   ]
  },
  {
   "cell_type": "code",
   "execution_count": 20,
   "id": "1a4b421c-a2cd-4721-ac24-669c351457bd",
   "metadata": {},
   "outputs": [
    {
     "name": "stdin",
     "output_type": "stream",
     "text": [
      "How many letters would you like in your password?\n",
      " 5\n",
      "How many number would you like\n",
      " 4\n",
      "How many symbols would you like\n",
      " 2\n"
     ]
    },
    {
     "name": "stdout",
     "output_type": "stream",
     "text": [
      "['V', 'E', 'q', 'e', 'z', '3', '4', '5', '3', '%', '@']\n",
      "['5', 'E', '%', '4', 'z', 'V', '3', 'e', '@', '3', 'q']\n",
      "5E%4zV3e@3q\n"
     ]
    }
   ],
   "source": [
    "import random\n",
    "alphabets = ['A', 'B', 'C', 'D', 'E', 'F', 'G', 'H', 'I', 'J', 'K', 'L', 'M', \n",
    "             'N', 'O', 'P', 'Q', 'R', 'S', 'T', 'U', 'V', 'W', 'X', 'Y', 'Z', \n",
    "             'a', 'b', 'c', 'd', 'e', 'f', 'g', 'h', 'i', 'j', 'k', 'l', 'm', \n",
    "             'n', 'o', 'p', 'q', 'r', 's', 't', 'u', 'v', 'w', 'x', 'y', 'z']\n",
    "numbers = ['0', '1', '2', '3', '4', '5', '6', '7', '8', '9']\n",
    "special_symbols = ['!', '@', '#', '$', '%', '^', '&', '*']\n",
    "nr_alphabets = int(input(\"How many letters would you like in your password?\\n\"))\n",
    "nr_numbers = int(input(f\"How many number would you like\\n\"))\n",
    "nr_symbol = int(input(f\"How many symbols would you like\\n\"))\n",
    "\n",
    "password = []\n",
    "for char in range(0, nr_alphabets):\n",
    "    alphabet = random.choice(alphabets)\n",
    "    password.append(alphabet)\n",
    "\n",
    "\n",
    "for num in range(0, nr_numbers):\n",
    "    number = random.choice(numbers)\n",
    "    password.append(number)\n",
    "\n",
    "for num in range(0, nr_symbol):\n",
    "    symbol = random.choice(special_symbols)\n",
    "    password.append(symbol)\n",
    "print(password)\n",
    "random.shuffle(password)\n",
    "print(password)\n",
    "strong_password = \"\"\n",
    "for key in password:\n",
    "    strong_password = strong_password + key\n",
    "print(strong_password)"
   ]
  },
  {
   "cell_type": "code",
   "execution_count": null,
   "id": "543fb182-d172-4a8b-ae7f-2cef0e0b313a",
   "metadata": {},
   "outputs": [],
   "source": []
  }
 ],
 "metadata": {
  "kernelspec": {
   "display_name": "Python 3 (ipykernel)",
   "language": "python",
   "name": "python3"
  },
  "language_info": {
   "codemirror_mode": {
    "name": "ipython",
    "version": 3
   },
   "file_extension": ".py",
   "mimetype": "text/x-python",
   "name": "python",
   "nbconvert_exporter": "python",
   "pygments_lexer": "ipython3",
   "version": "3.12.7"
  }
 },
 "nbformat": 4,
 "nbformat_minor": 5
}
